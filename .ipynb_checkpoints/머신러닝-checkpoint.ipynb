{
 "cells": [
  {
   "cell_type": "code",
   "execution_count": 1,
   "id": "66097133-4855-44f4-8cca-e4b84aae4183",
   "metadata": {},
   "outputs": [
    {
     "data": {
      "text/plain": [
       "array([0, 1, 2, 3, 4])"
      ]
     },
     "execution_count": 1,
     "metadata": {},
     "output_type": "execute_result"
    }
   ],
   "source": [
    "# NumPy 라이브러리를 불러옵니다.\n",
    "# NumPy라는 단어를 앞으로 np로 부르겠다는 문장입니다.\n",
    "\n",
    "import numpy as np\n",
    "import pandas as pd\n",
    "import matplotlib.pyplot as plt\n",
    "\n",
    "# 1차원 배열을 만들어 봅시다.\n",
    "a = np.array([_ for _ in range(5)])\n",
    "\n",
    "# 대화하는 형식처럼 코드를 짤 수 있기 때문에 print 없이도 맨 마지막 변수는 출력할 수 있습니다.\n",
    "a\n"
   ]
  },
  {
   "cell_type": "code",
   "execution_count": 2,
   "id": "ad9e3ee9-6a78-465b-b73b-c860123c156b",
   "metadata": {},
   "outputs": [
    {
     "name": "stdout",
     "output_type": "stream",
     "text": [
      "[0 1 2 3 4]\n",
      "[5 4 3 2 1]\n"
     ]
    },
    {
     "data": {
      "text/plain": [
       "array([5, 4, 3, 2, 1])"
      ]
     },
     "execution_count": 2,
     "metadata": {},
     "output_type": "execute_result"
    }
   ],
   "source": [
    "\n",
    "# 변수 a에 담긴 NumPy 1차원 배열의 정보들을 확인해 봅시다.\n",
    "# object type, data type, shape, dimension, array size\n",
    "# 아래의 문법은 f-string 문법입니다.\n",
    "\n",
    "a = np.array([_ for _ in range(5)])\n",
    "b = np.array([_ for _ in range(5, 0, -1)])\n",
    "print(a)\n",
    "print(b)\n",
    "a\n",
    "b\n"
   ]
  },
  {
   "cell_type": "code",
   "execution_count": 3,
   "id": "3621e544-1c56-4ea8-967c-bd681e727fd8",
   "metadata": {},
   "outputs": [
    {
     "name": "stdout",
     "output_type": "stream",
     "text": [
      "[0 1 2 3 4]\n",
      "object type: <class 'numpy.ndarray'>\n",
      "  data type: int64\n",
      "      shape: (5,)\n",
      "  dimension: 1\n",
      " array size: 5\n",
      "[[[ 1  2  3  4  5]\n",
      "  [ 8  9 10 11 12]]\n",
      "\n",
      " [[ 4  5  6  7  8]\n",
      "  [10 11 12 13 14]]]\n",
      "object type: <class 'numpy.ndarray'>\n",
      "  data type: int64\n",
      "      shape: (2, 2, 5)\n",
      "  dimension: 3\n",
      " array size: 20\n",
      "[[[ 1.  2.  3.  4.  5.]\n",
      "  [ 8.  9. 10. 11. 12.]]\n",
      "\n",
      " [[ 4.  5.  6.  7.  8.]\n",
      "  [10. 11. 12. 13. 14.]]]\n",
      "object type: <class 'numpy.ndarray'>\n",
      "  data type: float64\n",
      "      shape: (2, 2, 5)\n",
      "  dimension: 3\n",
      " array size: 20\n"
     ]
    }
   ],
   "source": [
    "\n",
    "# 변수 a에 담긴 NumPy 1차원 배열의 정보들을 확인해 봅시다.\n",
    "# object type, data type, shape, dimension, array size\n",
    "# 아래의 문법은 f-string 문법입니다.\n",
    "\n",
    "print(f'{a}\\n{\"object type:\":>12} {type(a)}\\n{\"data type:\":>12} {a.dtype}\\n{\"shape:\":>12} \\\n",
    "{a.shape}\\n{\"dimension:\":>12} {a.ndim}\\n{\"array size:\":>12} {a.size}')\n",
    "\n",
    "# 다차원 배열을 생성해 봅시다.\n",
    "# 또한, b에 담긴 NumPy 다차원 배열의 정보들을 확인해 봅시다.\n",
    "\n",
    "b = np.array([[[1, 2, 3, 4, 5], [8, 9, 10, 11, 12]], [[4, 5, 6, 7, 8], [10, 11, 12, 13, 14]]])\n",
    "\n",
    "print(f'{b}\\n{\"object type:\":>12} {type(b)}\\n{\"data type:\":>12} {b.dtype}\\n{\"shape:\":>12} \\\n",
    "{b.shape}\\n{\"dimension:\":>12} {b.ndim}\\n{\"array size:\":>12} {b.size}')\n",
    "\n",
    "# NumPy는 Array 안의 값들의 데이터 타입은 같다고 설명하였습니다.\n",
    "# 코드를 돌려보며, 실제로 어떻게 동작하는지 확인해 봅시다.\n",
    "\n",
    "c = np.array([[[1.0, 2, 3, 4, 5], [8.0, 9, 10, 11, 12]], [[4.0, 5, 6, 7, 8], [10.0, 11, 12, 13, 14]]])\n",
    "\n",
    "print(f'{c}\\n{\"object type:\":>12} {type(c)}\\n{\"data type:\":>12} {c.dtype}\\n{\"shape:\":>12} \\\n",
    "{c.shape}\\n{\"dimension:\":>12} {c.ndim}\\n{\"array size:\":>12} {c.size}')\n",
    "\n",
    "# data type이 int32가 아닌 float64가 된 것을 확인해 볼 수 있습니다.\n"
   ]
  },
  {
   "cell_type": "code",
   "execution_count": 4,
   "id": "7f1a941d-f305-4fd8-97ba-2e9039efd874",
   "metadata": {},
   "outputs": [
    {
     "name": "stdout",
     "output_type": "stream",
     "text": [
      "[5 7 9]\n",
      "[ 5 10 15]\n",
      "[ 4 10 18]\n",
      "[5. 4. 3.]\n"
     ]
    }
   ],
   "source": [
    "\n",
    "# 배열의 간단한 연산입니다.\n",
    "# 배열을 연산하고자 할 때는 꼭! 크기를 맞춰야 합니다.\n",
    "\n",
    "# 덧셈 연산\n",
    "a = np.array([1, 2, 3])\n",
    "b = np.array([4, 5, 6])\n",
    "c = a + b\n",
    "print(c)\n",
    "\n",
    "# 뺄셈 연산\n",
    "d = np.array([10, 20, 30])\n",
    "e = np.array([5, 10, 15])\n",
    "f = d - e\n",
    "print(f)\n",
    "\n",
    "# 곱셈 연산\n",
    "g = np.array([1, 2, 3])\n",
    "h = np.array([4, 5, 6])\n",
    "i = g * h\n",
    "print(i)\n",
    "\n",
    "# 나눗셈 연산\n",
    "j = np.array([10, 20, 30])\n",
    "k = np.array([2, 5, 10])\n",
    "l = j / k\n",
    "print(l)"
   ]
  },
  {
   "cell_type": "code",
   "execution_count": 5,
   "id": "c6ebe105-ca07-4121-a04d-8917bc1eaaf1",
   "metadata": {},
   "outputs": [
    {
     "name": "stdout",
     "output_type": "stream",
     "text": [
      "[ 7  8  9 10 11]\n",
      "object type: <class 'numpy.ndarray'>\n",
      "  data type: int64\n",
      "      shape: (5,)\n",
      "  dimension: 1\n",
      " array size: 5\n",
      "[ 7  8  9 10 11]\n",
      "(5,)\n",
      "[ 7  8  9 10 11]\n",
      "[7, 8, 9, 10, 11]\n"
     ]
    }
   ],
   "source": [
    "# Create a rank one array with the array function\n",
    "import numpy as np  # importing NumPy library\n",
    "a = np.array([7, 8, 9, 10, 11])  # All elements are of the same size!\n",
    "print(f'{a}\\n{\"object type:\":>12} {type(a)}\\n{\"data type:\":>12} {a.dtype}\\n{\"shape:\":>12} \\\n",
    "{a.shape}\\n{\"dimension:\":>12} {a.ndim}\\n{\"array size:\":>12} {a.size}')\n",
    "\n",
    "a1 = np.array(a)\n",
    "print(a1)\n",
    "print(a1.shape)\n",
    "b = [7, 8, 9, 10, 11]\n",
    "print(a)  # NumPy Array\n",
    "print(b)  # List Array\n"
   ]
  },
  {
   "cell_type": "code",
   "execution_count": 6,
   "id": "aba7feb8-0708-447a-aff2-ba8a4778aac8",
   "metadata": {},
   "outputs": [
    {
     "name": "stdout",
     "output_type": "stream",
     "text": [
      "[[[ 1  2  3  4  5]\n",
      "  [ 8  9 10 11 12]\n",
      "  [ 1  2  3  4  5]]]\n",
      "object type: <class 'numpy.ndarray'>\n",
      "  data type: int64\n",
      "      shape: (1, 3, 5)\n",
      "  dimension: 3\n",
      " array size: 15\n",
      "(1, 3, 5)\n"
     ]
    }
   ],
   "source": [
    "# Create a rank three array: 3 dimensional array\n",
    "c = np.array([[[1, 2, 3, 4, 5], [8, 9, 10, 11, 12],[1, 2, 3, 4, 5]]])\n",
    "print(f'{c}\\n{\"object type:\":>12} {type(c)}\\n{\"data type:\":>12} {c.dtype}\\n{\"shape:\":>12} \\\n",
    "{c.shape}\\n{\"dimension:\":>12} {c.ndim}\\n{\"array size:\":>12} {c.size}')\n",
    "print(c.shape)"
   ]
  },
  {
   "cell_type": "code",
   "execution_count": 7,
   "id": "51334e7c-0f7a-488d-aec5-39af4808023b",
   "metadata": {},
   "outputs": [
    {
     "name": "stdout",
     "output_type": "stream",
     "text": [
      "(3, 2) (3, 2)\n",
      "[[ 4  6]\n",
      " [ 8 10]\n",
      " [12 14]]\n",
      "[[ 2  4]\n",
      " [ 6  8]\n",
      " [10 12]]\n"
     ]
    }
   ],
   "source": [
    "import numpy as np\n",
    "\n",
    "# element-wise operations\n",
    "xa = np.array([[1, 2], [3, 4], [5, 6]])\n",
    "xb = np.array([[3, 4], [5, 6], [7, 8]])\n",
    "print(xa.shape, xb.shape)  # dimension of an array\n",
    "print(f'{xa+xb}\\n{xa*2}')  # element-wise addition"
   ]
  },
  {
   "cell_type": "code",
   "execution_count": 8,
   "id": "9d41bf53-254d-4e9d-88df-51ad1af67add",
   "metadata": {},
   "outputs": [
    {
     "name": "stdout",
     "output_type": "stream",
     "text": [
      "[[ 4  6]\n",
      " [ 8 10]\n",
      " [12 14]]\n",
      "[[-2 -2]\n",
      " [-2 -2]\n",
      " [-2 -2]]\n",
      "[[ 3  8]\n",
      " [15 24]\n",
      " [35 48]]\n",
      "[[1.         1.41421356]\n",
      " [1.73205081 2.        ]\n",
      " [2.23606798 2.44948974]]\n"
     ]
    }
   ],
   "source": [
    "print(np.add(xa, xb))\n",
    "print(np.subtract(xa, xb))  # element-wise subtraction\n",
    "print(np.multiply(xa, xb))  # element-wise multiplication/division \n",
    "print(np.sqrt(xa))"
   ]
  },
  {
   "cell_type": "code",
   "execution_count": 9,
   "id": "e79140f7-545e-469d-a375-fbc97082937c",
   "metadata": {},
   "outputs": [
    {
     "data": {
      "text/html": [
       "<div>\n",
       "<style scoped>\n",
       "    .dataframe tbody tr th:only-of-type {\n",
       "        vertical-align: middle;\n",
       "    }\n",
       "\n",
       "    .dataframe tbody tr th {\n",
       "        vertical-align: top;\n",
       "    }\n",
       "\n",
       "    .dataframe thead th {\n",
       "        text-align: right;\n",
       "    }\n",
       "</style>\n",
       "<table border=\"1\" class=\"dataframe\">\n",
       "  <thead>\n",
       "    <tr style=\"text-align: right;\">\n",
       "      <th></th>\n",
       "      <th>Spring</th>\n",
       "      <th>Summer</th>\n",
       "      <th>Fall</th>\n",
       "      <th>Winter</th>\n",
       "    </tr>\n",
       "  </thead>\n",
       "  <tbody>\n",
       "    <tr>\n",
       "      <th>0</th>\n",
       "      <td>10</td>\n",
       "      <td>24</td>\n",
       "      <td>24</td>\n",
       "      <td>8</td>\n",
       "    </tr>\n",
       "    <tr>\n",
       "      <th>1</th>\n",
       "      <td>14</td>\n",
       "      <td>27</td>\n",
       "      <td>21</td>\n",
       "      <td>0</td>\n",
       "    </tr>\n",
       "    <tr>\n",
       "      <th>2</th>\n",
       "      <td>18</td>\n",
       "      <td>30</td>\n",
       "      <td>18</td>\n",
       "      <td>-5</td>\n",
       "    </tr>\n",
       "  </tbody>\n",
       "</table>\n",
       "</div>"
      ],
      "text/plain": [
       "   Spring  Summer  Fall  Winter\n",
       "0      10      24    24       8\n",
       "1      14      27    21       0\n",
       "2      18      30    18      -5"
      ]
     },
     "execution_count": 9,
     "metadata": {},
     "output_type": "execute_result"
    }
   ],
   "source": [
    "# 2차원 DataFrame을 생성해 봅시다.\n",
    "# index는 왼쪽, elements는 오른쪽에 위치합니다.\n",
    "season_temps = pd.DataFrame({'Spring':[10, 14, 18], 'Summer':[24, 27, 30], 'Fall':[24, 21, 18], 'Winter':[8, 0, -5]})\n",
    "\n",
    "# season_temps를 출력해 봅시다.\n",
    "# 위에서 설명한 바와 같이 대화형 코딩이 가능하므로 마지막 줄에 변수를 입력하면 해당 변수에 담긴 값이 출력됩니다.\n",
    "season_temps"
   ]
  },
  {
   "cell_type": "code",
   "execution_count": 10,
   "id": "57b7b227-2d63-402e-acf6-73d53d7a8520",
   "metadata": {},
   "outputs": [
    {
     "data": {
      "text/html": [
       "<div>\n",
       "<style scoped>\n",
       "    .dataframe tbody tr th:only-of-type {\n",
       "        vertical-align: middle;\n",
       "    }\n",
       "\n",
       "    .dataframe tbody tr th {\n",
       "        vertical-align: top;\n",
       "    }\n",
       "\n",
       "    .dataframe thead th {\n",
       "        text-align: right;\n",
       "    }\n",
       "</style>\n",
       "<table border=\"1\" class=\"dataframe\">\n",
       "  <thead>\n",
       "    <tr style=\"text-align: right;\">\n",
       "      <th></th>\n",
       "      <th>Spring</th>\n",
       "      <th>Summer</th>\n",
       "      <th>Fall</th>\n",
       "      <th>Winter</th>\n",
       "    </tr>\n",
       "  </thead>\n",
       "  <tbody>\n",
       "    <tr>\n",
       "      <th>count</th>\n",
       "      <td>3.0</td>\n",
       "      <td>3.0</td>\n",
       "      <td>3.0</td>\n",
       "      <td>3.000000</td>\n",
       "    </tr>\n",
       "    <tr>\n",
       "      <th>mean</th>\n",
       "      <td>14.0</td>\n",
       "      <td>27.0</td>\n",
       "      <td>21.0</td>\n",
       "      <td>1.000000</td>\n",
       "    </tr>\n",
       "    <tr>\n",
       "      <th>std</th>\n",
       "      <td>4.0</td>\n",
       "      <td>3.0</td>\n",
       "      <td>3.0</td>\n",
       "      <td>6.557439</td>\n",
       "    </tr>\n",
       "    <tr>\n",
       "      <th>min</th>\n",
       "      <td>10.0</td>\n",
       "      <td>24.0</td>\n",
       "      <td>18.0</td>\n",
       "      <td>-5.000000</td>\n",
       "    </tr>\n",
       "    <tr>\n",
       "      <th>25%</th>\n",
       "      <td>12.0</td>\n",
       "      <td>25.5</td>\n",
       "      <td>19.5</td>\n",
       "      <td>-2.500000</td>\n",
       "    </tr>\n",
       "    <tr>\n",
       "      <th>50%</th>\n",
       "      <td>14.0</td>\n",
       "      <td>27.0</td>\n",
       "      <td>21.0</td>\n",
       "      <td>0.000000</td>\n",
       "    </tr>\n",
       "    <tr>\n",
       "      <th>75%</th>\n",
       "      <td>16.0</td>\n",
       "      <td>28.5</td>\n",
       "      <td>22.5</td>\n",
       "      <td>4.000000</td>\n",
       "    </tr>\n",
       "    <tr>\n",
       "      <th>max</th>\n",
       "      <td>18.0</td>\n",
       "      <td>30.0</td>\n",
       "      <td>24.0</td>\n",
       "      <td>8.000000</td>\n",
       "    </tr>\n",
       "  </tbody>\n",
       "</table>\n",
       "</div>"
      ],
      "text/plain": [
       "       Spring  Summer  Fall    Winter\n",
       "count     3.0     3.0   3.0  3.000000\n",
       "mean     14.0    27.0  21.0  1.000000\n",
       "std       4.0     3.0   3.0  6.557439\n",
       "min      10.0    24.0  18.0 -5.000000\n",
       "25%      12.0    25.5  19.5 -2.500000\n",
       "50%      14.0    27.0  21.0  0.000000\n",
       "75%      16.0    28.5  22.5  4.000000\n",
       "max      18.0    30.0  24.0  8.000000"
      ]
     },
     "execution_count": 10,
     "metadata": {},
     "output_type": "execute_result"
    }
   ],
   "source": [
    "# season_temps를 요약한 정보를 확인해 봅시다.\n",
    "season_temps.describe()"
   ]
  },
  {
   "cell_type": "code",
   "execution_count": 11,
   "id": "cce6edeb-274f-46d4-b104-6a71538d3a6c",
   "metadata": {},
   "outputs": [
    {
     "data": {
      "text/html": [
       "<div>\n",
       "<style scoped>\n",
       "    .dataframe tbody tr th:only-of-type {\n",
       "        vertical-align: middle;\n",
       "    }\n",
       "\n",
       "    .dataframe tbody tr th {\n",
       "        vertical-align: top;\n",
       "    }\n",
       "\n",
       "    .dataframe thead th {\n",
       "        text-align: right;\n",
       "    }\n",
       "</style>\n",
       "<table border=\"1\" class=\"dataframe\">\n",
       "  <thead>\n",
       "    <tr style=\"text-align: right;\">\n",
       "      <th></th>\n",
       "      <th>Spring</th>\n",
       "      <th>Summer</th>\n",
       "      <th>Fall</th>\n",
       "      <th>Winter</th>\n",
       "    </tr>\n",
       "  </thead>\n",
       "  <tbody>\n",
       "    <tr>\n",
       "      <th>0</th>\n",
       "      <td>10</td>\n",
       "      <td>24</td>\n",
       "      <td>24</td>\n",
       "      <td>8</td>\n",
       "    </tr>\n",
       "    <tr>\n",
       "      <th>1</th>\n",
       "      <td>14</td>\n",
       "      <td>27</td>\n",
       "      <td>21</td>\n",
       "      <td>0</td>\n",
       "    </tr>\n",
       "    <tr>\n",
       "      <th>2</th>\n",
       "      <td>18</td>\n",
       "      <td>30</td>\n",
       "      <td>18</td>\n",
       "      <td>-5</td>\n",
       "    </tr>\n",
       "  </tbody>\n",
       "</table>\n",
       "</div>"
      ],
      "text/plain": [
       "   Spring  Summer  Fall  Winter\n",
       "0      10      24    24       8\n",
       "1      14      27    21       0\n",
       "2      18      30    18      -5"
      ]
     },
     "execution_count": 11,
     "metadata": {},
     "output_type": "execute_result"
    }
   ],
   "source": [
    "# 데이터의 일부를 출력해 봅시다.\n",
    "\"\"\"\n",
    "만약 100,000개의 데이터가 있다 가정할 때 전체의 데이터를 출력해서 볼 수 있겠지만,\n",
    "그만큼 시간도 많이 필요하기 때문에 많이 사용하는 코드입니다.\n",
    "\"\"\"\n",
    "# head / tail은 앞에서부터 5개, 뒤에서부터 5개를 보여줍니다.\n",
    "\n",
    "season_temps.head()"
   ]
  },
  {
   "cell_type": "code",
   "execution_count": 12,
   "id": "7d83f6e8-dd80-4de1-b7c3-cbe3dd2a74e1",
   "metadata": {},
   "outputs": [
    {
     "data": {
      "image/png": "[encoded data removed]",
      "text/plain": [
       "<Figure size 1200x300 with 1 Axes>"
      ]
     },
     "metadata": {},
     "output_type": "display_data"
    }
   ],
   "source": [
    "# list를 선언해 봅시다.\n",
    "year, number = (['1st Year', '2nd Year', '3nd Year', '4th Year'], [14, 11, 15, 18])\n",
    "\n",
    "# 그래프의 크기를 선언해 봅시다.\n",
    "plt.figure(figsize=(12, 3))\n",
    "\n",
    "# 그래프에 표시할 값을 넣어줍니다.\n",
    "plt.bar(year, number)\n",
    "\n",
    "# 그려진 그래프를 확인해 봅시다.\n",
    "plt.show()"
   ]
  },
  {
   "cell_type": "code",
   "execution_count": 36,
   "id": "d532c0c5-53c1-4344-9b2e-14b24de766b6",
   "metadata": {},
   "outputs": [
    {
     "data": {
      "image/png": "[encoded data removed]",
      "text/plain": [
       "<Figure size 1200x300 with 2 Axes>"
      ]
     },
     "metadata": {},
     "output_type": "display_data"
    }
   ],
   "source": [
    "# 그래프의 크기를 선언해 봅시다.\n",
    "plt.figure(figsize=(12, 3))\n",
    "\n",
    "# 그래프를 나열하고, 위치를 지정해 줍니다. (1번-왼쪽)\n",
    "plt.subplot(1, 2, 1)\n",
    "\n",
    "# 그래프에 표시할 값을 넣어줍니다.\n",
    "plt.bar(year, number)\n",
    "\n",
    "# 그래프를 나열하고, 위치를 지정해 줍니다. (2번-오른쪽)\n",
    "plt.subplot(1, 2, 2)\n",
    "\n",
    "# 그래프에 표시할 값을 넣어줍니다.\n",
    "plt.barh(year, number)\n",
    "\n",
    "# 그려진 그래프를 확인해 봅시다.\n",
    "plt.show()"
   ]
  },
  {
   "cell_type": "code",
   "execution_count": 37,
   "id": "bafa1b54-a779-4808-bc83-ba0e58c2d96b",
   "metadata": {},
   "outputs": [],
   "source": [
    "import seaborn as sns"
   ]
  },
  {
   "cell_type": "code",
   "execution_count": 38,
   "id": "e80a44fa-4401-46d4-b104-adeb2ebe8f1f",
   "metadata": {},
   "outputs": [
    {
     "name": "stdout",
     "output_type": "stream",
     "text": [
      "<class 'pandas.core.frame.DataFrame'>\n",
      "RangeIndex: 891 entries, 0 to 890\n",
      "Data columns (total 15 columns):\n",
      " #   Column       Non-Null Count  Dtype   \n",
      "---  ------       --------------  -----   \n",
      " 0   survived     891 non-null    int64   \n",
      " 1   pclass       891 non-null    int64   \n",
      " 2   sex          891 non-null    object  \n",
      " 3   age          714 non-null    float64 \n",
      " 4   sibsp        891 non-null    int64   \n",
      " 5   parch        891 non-null    int64   \n",
      " 6   fare         891 non-null    float64 \n",
      " 7   embarked     889 non-null    object  \n",
      " 8   class        891 non-null    category\n",
      " 9   who          891 non-null    object  \n",
      " 10  adult_male   891 non-null    bool    \n",
      " 11  deck         203 non-null    category\n",
      " 12  embark_town  889 non-null    object  \n",
      " 13  alive        891 non-null    object  \n",
      " 14  alone        891 non-null    bool    \n",
      "dtypes: bool(2), category(2), float64(2), int64(4), object(5)\n",
      "memory usage: 80.7+ KB\n",
      "None\n"
     ]
    },
    {
     "data": {
      "text/html": [
       "<div>\n",
       "<style scoped>\n",
       "    .dataframe tbody tr th:only-of-type {\n",
       "        vertical-align: middle;\n",
       "    }\n",
       "\n",
       "    .dataframe tbody tr th {\n",
       "        vertical-align: top;\n",
       "    }\n",
       "\n",
       "    .dataframe thead th {\n",
       "        text-align: right;\n",
       "    }\n",
       "</style>\n",
       "<table border=\"1\" class=\"dataframe\">\n",
       "  <thead>\n",
       "    <tr style=\"text-align: right;\">\n",
       "      <th></th>\n",
       "      <th>survived</th>\n",
       "      <th>pclass</th>\n",
       "      <th>sex</th>\n",
       "      <th>age</th>\n",
       "      <th>sibsp</th>\n",
       "      <th>parch</th>\n",
       "      <th>fare</th>\n",
       "      <th>embarked</th>\n",
       "      <th>class</th>\n",
       "      <th>who</th>\n",
       "      <th>adult_male</th>\n",
       "      <th>deck</th>\n",
       "      <th>embark_town</th>\n",
       "      <th>alive</th>\n",
       "      <th>alone</th>\n",
       "    </tr>\n",
       "  </thead>\n",
       "  <tbody>\n",
       "    <tr>\n",
       "      <th>0</th>\n",
       "      <td>0</td>\n",
       "      <td>3</td>\n",
       "      <td>male</td>\n",
       "      <td>22.0</td>\n",
       "      <td>1</td>\n",
       "      <td>0</td>\n",
       "      <td>7.2500</td>\n",
       "      <td>S</td>\n",
       "      <td>Third</td>\n",
       "      <td>man</td>\n",
       "      <td>True</td>\n",
       "      <td>NaN</td>\n",
       "      <td>Southampton</td>\n",
       "      <td>no</td>\n",
       "      <td>False</td>\n",
       "    </tr>\n",
       "    <tr>\n",
       "      <th>1</th>\n",
       "      <td>1</td>\n",
       "      <td>1</td>\n",
       "      <td>female</td>\n",
       "      <td>38.0</td>\n",
       "      <td>1</td>\n",
       "      <td>0</td>\n",
       "      <td>71.2833</td>\n",
       "      <td>C</td>\n",
       "      <td>First</td>\n",
       "      <td>woman</td>\n",
       "      <td>False</td>\n",
       "      <td>C</td>\n",
       "      <td>Cherbourg</td>\n",
       "      <td>yes</td>\n",
       "      <td>False</td>\n",
       "    </tr>\n",
       "    <tr>\n",
       "      <th>2</th>\n",
       "      <td>1</td>\n",
       "      <td>3</td>\n",
       "      <td>female</td>\n",
       "      <td>26.0</td>\n",
       "      <td>0</td>\n",
       "      <td>0</td>\n",
       "      <td>7.9250</td>\n",
       "      <td>S</td>\n",
       "      <td>Third</td>\n",
       "      <td>woman</td>\n",
       "      <td>False</td>\n",
       "      <td>NaN</td>\n",
       "      <td>Southampton</td>\n",
       "      <td>yes</td>\n",
       "      <td>True</td>\n",
       "    </tr>\n",
       "    <tr>\n",
       "      <th>3</th>\n",
       "      <td>1</td>\n",
       "      <td>1</td>\n",
       "      <td>female</td>\n",
       "      <td>35.0</td>\n",
       "      <td>1</td>\n",
       "      <td>0</td>\n",
       "      <td>53.1000</td>\n",
       "      <td>S</td>\n",
       "      <td>First</td>\n",
       "      <td>woman</td>\n",
       "      <td>False</td>\n",
       "      <td>C</td>\n",
       "      <td>Southampton</td>\n",
       "      <td>yes</td>\n",
       "      <td>False</td>\n",
       "    </tr>\n",
       "    <tr>\n",
       "      <th>4</th>\n",
       "      <td>0</td>\n",
       "      <td>3</td>\n",
       "      <td>male</td>\n",
       "      <td>35.0</td>\n",
       "      <td>0</td>\n",
       "      <td>0</td>\n",
       "      <td>8.0500</td>\n",
       "      <td>S</td>\n",
       "      <td>Third</td>\n",
       "      <td>man</td>\n",
       "      <td>True</td>\n",
       "      <td>NaN</td>\n",
       "      <td>Southampton</td>\n",
       "      <td>no</td>\n",
       "      <td>True</td>\n",
       "    </tr>\n",
       "  </tbody>\n",
       "</table>\n",
       "</div>"
      ],
      "text/plain": [
       "   survived  pclass     sex   age  sibsp  parch     fare embarked  class  \\\n",
       "0         0       3    male  22.0      1      0   7.2500        S  Third   \n",
       "1         1       1  female  38.0      1      0  71.2833        C  First   \n",
       "2         1       3  female  26.0      0      0   7.9250        S  Third   \n",
       "3         1       1  female  35.0      1      0  53.1000        S  First   \n",
       "4         0       3    male  35.0      0      0   8.0500        S  Third   \n",
       "\n",
       "     who  adult_male deck  embark_town alive  alone  \n",
       "0    man        True  NaN  Southampton    no  False  \n",
       "1  woman       False    C    Cherbourg   yes  False  \n",
       "2  woman       False  NaN  Southampton   yes   True  \n",
       "3  woman       False    C  Southampton   yes  False  \n",
       "4    man        True  NaN  Southampton    no   True  "
      ]
     },
     "execution_count": 38,
     "metadata": {},
     "output_type": "execute_result"
    }
   ],
   "source": [
    "# 타이타닉 데이터를 불러옵니다.\n",
    "titanic = sns.load_dataset('titanic')\n",
    "\n",
    "# 데이터 정보를 출력합니다.\n",
    "print(titanic.info())\n",
    "\n",
    "# 데이터 일부를 head 함수를 이용하여 출력합니다.\n",
    "titanic.head()\n",
    "\n",
    "sns.heatmap(titanic.corr(), annot=True, cmap='coolwarm')"
   ]
  },
  {
   "cell_type": "code",
   "execution_count": 39,
   "id": "451cbc46-c886-4eb7-98ab-4287f97bb286",
   "metadata": {
    "collapsed": true,
    "jupyter": {
     "outputs_hidden": true
    },
    "tags": []
   },
   "outputs": [
    {
     "name": "stderr",
     "output_type": "stream",
     "text": [
      "/var/folders/80/ddykz05x5_sc8k290j7x7sdm0000gn/T/ipykernel_57010/2962808572.py:1: FutureWarning: The default value of numeric_only in DataFrame.corr is deprecated. In a future version, it will default to False. Select only valid columns or specify the value of numeric_only to silence this warning.\n",
      "  sns.heatmap(titanic.corr(), annot=True, cmap='coolwarm')\n"
     ]
    },
    {
     "data": {
      "text/plain": [
       "<Axes: >"
      ]
     },
     "execution_count": 39,
     "metadata": {},
     "output_type": "execute_result"
    },
    {
     "data": {
      "image/png": "[encoded data removed]",
      "text/plain": [
       "<Figure size 640x480 with 2 Axes>"
      ]
     },
     "metadata": {},
     "output_type": "display_data"
    }
   ],
   "source": []
  },
  {
   "cell_type": "code",
   "execution_count": 2,
   "id": "f9c98de1-2fb1-4397-a23f-651884f96972",
   "metadata": {},
   "outputs": [
    {
     "name": "stdout",
     "output_type": "stream",
     "text": [
      "hello world\n"
     ]
    }
   ],
   "source": [
    "print(\"hello world\")"
   ]
  },
  {
   "cell_type": "code",
   "execution_count": null,
   "id": "7091f9d3-dc6f-4b44-b88d-ca27d19b31a3",
   "metadata": {},
   "outputs": [],
   "source": []
  }
 ],
 "metadata": {
  "kernelspec": {
   "display_name": "Python 3 (ipykernel)",
   "language": "python",
   "name": "python3"
  },
  "language_info": {
   "codemirror_mode": {
    "name": "ipython",
    "version": 3
   },
   "file_extension": ".py",
   "mimetype": "text/x-python",
   "name": "python",
   "nbconvert_exporter": "python",
   "pygments_lexer": "ipython3",
   "version": "3.9.16"
  }
 },
 "nbformat": 4,
 "nbformat_minor": 5
}
