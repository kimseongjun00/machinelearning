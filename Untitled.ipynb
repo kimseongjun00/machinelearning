{
 "cells": [
  {
   "cell_type": "code",
   "execution_count": 12,
   "id": "cc222e97-efef-438e-abd0-51f5c05edcdd",
   "metadata": {},
   "outputs": [
    {
     "ename": "ModuleNotFoundError",
     "evalue": "No module named 'numpy'",
     "output_type": "error",
     "traceback": [
      "\u001b[0;31m---------------------------------------------------------------------------\u001b[0m",
      "\u001b[0;31mModuleNotFoundError\u001b[0m                       Traceback (most recent call last)",
      "Cell \u001b[0;32mIn[12], line 3\u001b[0m\n\u001b[1;32m      1\u001b[0m \u001b[38;5;66;03m# NumPy 라이브러리를 불러옵니다.\u001b[39;00m\n\u001b[1;32m      2\u001b[0m \u001b[38;5;66;03m# NumPy라는 단어를 앞으로 np로 부르겠다는 문장입니다.\u001b[39;00m\n\u001b[0;32m----> 3\u001b[0m \u001b[38;5;28;01mimport\u001b[39;00m \u001b[38;5;21;01mnumpy\u001b[39;00m \u001b[38;5;28;01mas\u001b[39;00m \u001b[38;5;21;01mnp\u001b[39;00m\n\u001b[1;32m      5\u001b[0m \u001b[38;5;66;03m# 1차원 배열을 만들어 봅시다.\u001b[39;00m\n\u001b[1;32m      6\u001b[0m a \u001b[38;5;241m=\u001b[39m np\u001b[38;5;241m.\u001b[39marray([_ \u001b[38;5;28;01mfor\u001b[39;00m _ \u001b[38;5;129;01min\u001b[39;00m \u001b[38;5;28mrange\u001b[39m(\u001b[38;5;241m5\u001b[39m)])\n",
      "\u001b[0;31mModuleNotFoundError\u001b[0m: No module named 'numpy'"
     ]
    }
   ],
   "source": [
    "# NumPy 라이브러리를 불러옵니다.\n",
    "# NumPy라는 단어를 앞으로 np로 부르겠다는 문장입니다.\n",
    "import numpy as np\n",
    "\n",
    "# 1차원 배열을 만들어 봅시다.\n",
    "a = np.array([_ for _ in range(5)])\n",
    "\n",
    "# 대화하는 형식처럼 코드를 짤 수 있기 때문에 print 없이도 맨 마지막 변수는 출력할 수 있습니다.\n",
    "a\n",
    "\n",
    "# 변수 a에 담긴 NumPy 1차원 배열의 정보들을 확인해 봅시다.\n",
    "# object type, data type, shape, dimension, array size\n",
    "# 아래의 문법은 f-string 문법입니다.\n",
    "\n",
    "print(f'{a}\\n{\"object type:\":>12} {type(a)}\\n{\"data type:\":>12} {a.dtype}\\n{\"shape:\":>12} \\\n",
    "{a.shape}\\n{\"dimension:\":>12} {a.ndim}\\n{\"array size:\":>12} {a.size}')"
   ]
  },
  {
   "cell_type": "code",
   "execution_count": null,
   "id": "f6a5b25a-621a-4817-92a7-1278a3fc5118",
   "metadata": {},
   "outputs": [],
   "source": []
  }
 ],
 "metadata": {
  "kernelspec": {
   "display_name": "Python 3 (ipykernel)",
   "language": "python",
   "name": "python3"
  },
  "language_info": {
   "codemirror_mode": {
    "name": "ipython",
    "version": 3
   },
   "file_extension": ".py",
   "mimetype": "text/x-python",
   "name": "python",
   "nbconvert_exporter": "python",
   "pygments_lexer": "ipython3",
   "version": "3.9.16"
  }
 },
 "nbformat": 4,
 "nbformat_minor": 5
}
